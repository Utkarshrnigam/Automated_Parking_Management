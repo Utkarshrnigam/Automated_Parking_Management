{
 "cells": [
  {
   "cell_type": "code",
   "execution_count": 30,
   "metadata": {},
   "outputs": [],
   "source": [
    "import tensorflow.compat.v1 as tf\n",
    "tf.disable_v2_behavior()\n",
    "import numpy as np\n",
    "import pathlib\n",
    "import os\n",
    "import io\n",
    "import cv2"
   ]
  },
  {
   "cell_type": "code",
   "execution_count": 2,
   "metadata": {},
   "outputs": [],
   "source": [
    "model_path = \"C:/Users/asus/Desktop/Major/car_detection_model\"\n"
   ]
  },
  {
   "cell_type": "code",
   "execution_count": 3,
   "metadata": {
    "scrolled": true
   },
   "outputs": [],
   "source": [
    "%%capture\n",
    "session = tf.Session(graph=tf.Graph())\n",
    "# loading the model into our session created above\n",
    "tf.saved_model.loader.load(session, ['serve'], model_path)"
   ]
  },
  {
   "cell_type": "code",
   "execution_count": 4,
   "metadata": {},
   "outputs": [],
   "source": [
    "def draw_boxes(height, width, box, img):\n",
    "    # starting coordinates of the box\n",
    "    ymin = int(max(1, (box[0] * height)))\n",
    "    xmin = int(max(1, (box[1] * width)))\n",
    "    # last coordinates of the box\n",
    "    ymax = int(min(height, (box[2] * height)))\n",
    "    xmax = int(min(width, (box[3] * width)))\n",
    "\n",
    "    # draw a rectange using the coordinates\n",
    "    cv2.rectangle(img, (xmin, ymin), (xmax, ymax), (10, 255, 0), 1)"
   ]
  },
  {
   "cell_type": "code",
   "execution_count": 5,
   "metadata": {},
   "outputs": [],
   "source": [
    "def predict(img_name):\n",
    "    FOLDER_PATH =\"\"\n",
    "    FILE_NAME = img_name\n",
    "    with io.open(os.path.join(FOLDER_PATH, FILE_NAME), 'rb') as image_file:\n",
    "        img = image_file.read()\n",
    "\n",
    "    result = session.run(['detection_boxes:0','detection_scores:0'], feed_dict={\n",
    "            'encoded_image_string_tensor:0': [img]})\n",
    "#     print(\"File {} has result {}\".format(\"this\", boxes))\n",
    "    boxes = result[0][0]\n",
    "    scores = result[1][0]\n",
    "    # read the image with opencv  \n",
    "    img = cv2.imread(FILE_NAME)\n",
    "    # get the width and height of the image\n",
    "    imH, imW, _ = img.shape\n",
    "\n",
    "    for i in range(len(scores)):\n",
    "    # only consider a detected object if it's probability is above 25%\n",
    "        if scores[i] > 0.5:\n",
    "            print(\"The box {} has probability {}\".format(boxes[i], scores[i]))\n",
    "            draw_boxes(imH, imW, boxes[i], img)\n",
    "\n",
    "    # resize the image to fir the screen\n",
    "#     new_img = cv2.resize(img, (1080, 1920))\n",
    "    # show the image on the screen\n",
    "    cv2.imshow(\"image\", img)\n",
    "    # as soon as any key is pressed, skip to the next line\n",
    "    cv2.waitKey(0)\n",
    "    \n",
    "    \n",
    "    return boxes"
   ]
  },
  {
   "cell_type": "code",
   "execution_count": 8,
   "metadata": {},
   "outputs": [],
   "source": []
  },
  {
   "cell_type": "code",
   "execution_count": 28,
   "metadata": {},
   "outputs": [
    {
     "data": {
      "text/plain": [
       "187"
      ]
     },
     "execution_count": 28,
     "metadata": {},
     "output_type": "execute_result"
    }
   ],
   "source": []
  },
  {
   "cell_type": "code",
   "execution_count": 84,
   "metadata": {},
   "outputs": [],
   "source": [
    "bbs = [[557, 461, 98, 67]]"
   ]
  },
  {
   "cell_type": "code",
   "execution_count": 85,
   "metadata": {},
   "outputs": [
    {
     "data": {
      "text/plain": [
       "1"
      ]
     },
     "execution_count": 85,
     "metadata": {},
     "output_type": "execute_result"
    }
   ],
   "source": [
    "len(bbs)"
   ]
  },
  {
   "cell_type": "code",
   "execution_count": 86,
   "metadata": {},
   "outputs": [
    {
     "name": "stdout",
     "output_type": "stream",
     "text": [
      "[557, 461, 98, 67]\n"
     ]
    }
   ],
   "source": [
    "cam = cv2.VideoCapture(\"./11.png\")\n",
    "i=0\n",
    "while True:\n",
    "    _, im0 = cam.read()\n",
    "    showCrosshair = False\n",
    "    fromCenter = False\n",
    "    i = i + 1\n",
    "    final = im0\n",
    "    final = final*0\n",
    "    for slot in bbs:\n",
    "        print(slot)\n",
    "        x,y,w,h = slot\n",
    "        i = i + 1\n",
    "        slot_img = im0[y:y+h,x:x+w]\n",
    "#         cv2.imshow(\"slot\"+str(i),slot_img)\n",
    "        final[y:y+h,x:x+w] = im0[y:y+h,x:x+w]\n",
    "        cv2.imshow(\"slot\"+str(i),final)\n",
    "        \n",
    "        \n",
    "    \n",
    "    cv2.imshow(\"Image\", im0)\n",
    "    \n",
    "    if cv2.waitKey(0) & 0xFF == ord('q'):\n",
    "        break\n",
    "        \n",
    "cam.release()\n",
    "cv2.destroyAllWindows()"
   ]
  },
  {
   "cell_type": "code",
   "execution_count": 60,
   "metadata": {},
   "outputs": [],
   "source": [
    "cv2.imshow(\"Image\", final)\n",
    "cv2.waitKey(0)\n",
    "cv2.destroyAllWindows()"
   ]
  },
  {
   "cell_type": "code",
   "execution_count": 87,
   "metadata": {},
   "outputs": [
    {
     "data": {
      "text/plain": [
       "True"
      ]
     },
     "execution_count": 87,
     "metadata": {},
     "output_type": "execute_result"
    }
   ],
   "source": [
    "cv2.imwrite(\"final.png\",final)"
   ]
  },
  {
   "cell_type": "code",
   "execution_count": 88,
   "metadata": {},
   "outputs": [
    {
     "name": "stdout",
     "output_type": "stream",
     "text": [
      "The box [0.6376586  0.41814914 0.7289611  0.5046509 ] has probability 0.5615273714065552\n"
     ]
    }
   ],
   "source": [
    "bbs = predict(\"final.png\")"
   ]
  },
  {
   "cell_type": "code",
   "execution_count": null,
   "metadata": {},
   "outputs": [],
   "source": []
  }
 ],
 "metadata": {
  "kernelspec": {
   "display_name": "Python 3",
   "language": "python",
   "name": "python3"
  },
  "language_info": {
   "codemirror_mode": {
    "name": "ipython",
    "version": 3
   },
   "file_extension": ".py",
   "mimetype": "text/x-python",
   "name": "python",
   "nbconvert_exporter": "python",
   "pygments_lexer": "ipython3",
   "version": "3.7.4"
  }
 },
 "nbformat": 4,
 "nbformat_minor": 2
}
