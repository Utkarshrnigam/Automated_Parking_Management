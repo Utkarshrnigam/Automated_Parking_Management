{
 "cells": [
  {
   "cell_type": "code",
   "execution_count": 1,
   "metadata": {},
   "outputs": [
    {
     "name": "stderr",
     "output_type": "stream",
     "text": [
      "WARNING: Logging before flag parsing goes to stderr.\n",
      "W1207 15:54:32.301116  1048 deprecation.py:323] From c:\\users\\asus\\appdata\\local\\programs\\python\\python37\\lib\\site-packages\\tensorflow\\python\\compat\\v2_compat.py:96: disable_resource_variables (from tensorflow.python.ops.variable_scope) is deprecated and will be removed in a future version.\n",
      "Instructions for updating:\n",
      "non-resource variables are not supported in the long term\n"
     ]
    }
   ],
   "source": [
    "import tensorflow.compat.v1 as tf\n",
    "tf.disable_v2_behavior()\n",
    "import numpy as np\n",
    "import pathlib\n",
    "import os\n",
    "import io\n",
    "import cv2"
   ]
  },
  {
   "cell_type": "code",
   "execution_count": 2,
   "metadata": {},
   "outputs": [],
   "source": [
    "model_path = \"C:/Users/asus/Desktop/Major/car_detection_model\"\n"
   ]
  },
  {
   "cell_type": "code",
   "execution_count": 3,
   "metadata": {
    "scrolled": true
   },
   "outputs": [],
   "source": [
    "%%capture\n",
    "session = tf.Session(graph=tf.Graph())\n",
    "# loading the model into our session created above\n",
    "tf.saved_model.loader.load(session, ['serve'], model_path)"
   ]
  },
  {
   "cell_type": "code",
   "execution_count": null,
   "metadata": {},
   "outputs": [],
   "source": [
    "cam = cv2.VideoCapture(\"./11.png\")\n",
    "slots = []\n",
    "n = 100;\n",
    "while True:\n",
    "    _, im0 = cam.read()\n",
    "    showCrosshair = False\n",
    "    fromCenter = False\n",
    "    r = cv2.selectROI(\"Image1\", im0, fromCenter, showCrosshair)\n",
    "    n = n-1\n",
    "    slots.append(r)\n",
    "    for slot in slots:\n",
    "        im0 = cv2.rectangle(im0, (int(slot[0]),int(slot[1])), \n",
    "                                    (int(slot[0]+slot[2]),int(slot[1]+slot[3])), (255, 0, 0)) \n",
    "    cv2.imshow(\"Image\", im0)\n",
    "    \n",
    "    if cv2.waitKey(0) & 0xFF == ord('q'):\n",
    "        break\n",
    "        \n",
    "cam.release()\n",
    "cv2.destroyAllWindows()"
   ]
  },
  {
   "cell_type": "code",
   "execution_count": 4,
   "metadata": {},
   "outputs": [],
   "source": [
    "def draw_boxes(height, width, box, img):\n",
    "    ymin = int(max(1, (box[0] * height)))\n",
    "    xmin = int(max(1, (box[1] * width)))\n",
    "    ymax = int(min(height, (box[2] * height)))\n",
    "    xmax = int(min(width, (box[3] * width)))\n",
    "    cv2.rectangle(img, (xmin, ymin), (xmax, ymax), (10, 255, 0), 1)"
   ]
  },
  {
   "cell_type": "code",
   "execution_count": 19,
   "metadata": {},
   "outputs": [],
   "source": [
    "def predict(img_name,img):\n",
    "#     FOLDER_PATH =\"\"\n",
    "#     FILE_NAME = img_name\n",
    "#     with io.open(os.path.join(FOLDER_PATH, FILE_NAME), 'rb') as image_file:\n",
    "#         img = image_file.read()\n",
    "\n",
    "    result = session.run(['detection_boxes:0','detection_scores:0'], feed_dict={\n",
    "            'encoded_image_string_tensor:0': [img_name]})     \n",
    "    boxes = result[0][0]\n",
    "    scores = result[1][0]\n",
    "     \n",
    "#     img = cv2.imread(FILE_NAME)\n",
    "    \n",
    "    imH, imW, _ = img.shape\n",
    "    b = []\n",
    "    for i in range(len(scores)):\n",
    "        if scores[i] > 0.5:\n",
    "            print(\"The box {} has probability {}\".format(boxes[i], scores[i]))\n",
    "            draw_boxes(imH, imW, boxes[i], img)\n",
    "            b.append(boxes[i])\n",
    "            \n",
    "    cv2.imshow(\"image\", img)\n",
    "    cv2.waitKey(0)\n",
    "    return b[0]\n",
    "    \n",
    "    "
   ]
  },
  {
   "cell_type": "code",
   "execution_count": 20,
   "metadata": {},
   "outputs": [],
   "source": [
    "bbs = [[557, 461, 98, 67]]"
   ]
  },
  {
   "cell_type": "code",
   "execution_count": 21,
   "metadata": {},
   "outputs": [
    {
     "name": "stdout",
     "output_type": "stream",
     "text": [
      "The box [0.63840544 0.41831586 0.7295008  0.5052584 ] has probability 0.5631063580513\n"
     ]
    }
   ],
   "source": [
    "cam = cv2.VideoCapture(\"./11.png\")\n",
    "i=0\n",
    "while True:\n",
    "    _, im0 = cam.read()\n",
    "    showCrosshair = False\n",
    "    fromCenter = False\n",
    "    i = i + 1\n",
    "    \n",
    "    for slot in bbs:\n",
    "        final = im0\n",
    "        final = final*0\n",
    "        x,y,w,h = slot\n",
    "        i = i + 1\n",
    "        slot_img = im0[y:y+h,x:x+w]\n",
    "        final[y:y+h,x:x+w] = im0[y:y+h,x:x+w]\n",
    "#         cv2.imshow(\"slot\"+str(i),final)\n",
    "        \n",
    "        img_str = cv2.imencode('.jpg', final)[1].tostring()\n",
    "        \n",
    "        car = predict(img_str,final)\n",
    "        \n",
    "        if len(car)==0:\n",
    "            im0 = cv2.rectangle(im0, (int(x),int(y)), \n",
    "                                    (int(x+w),int(y+h)), (255, 0, 0))\n",
    "        else:\n",
    "            im0 = cv2.rectangle(im0, (int(x),int(y)), \n",
    "                                    (int(x+w),int(y+h)), (255, 0, 0))\n",
    "        \n",
    "    break\n",
    "    \n",
    "    if cv2.waitKey(0) & 0xFF == ord('q'):\n",
    "        break\n",
    "        \n",
    "cam.release()\n",
    "cv2.destroyAllWindows()"
   ]
  },
  {
   "cell_type": "code",
   "execution_count": 23,
   "metadata": {},
   "outputs": [
    {
     "data": {
      "text/plain": [
       "1"
      ]
     },
     "execution_count": 23,
     "metadata": {},
     "output_type": "execute_result"
    }
   ],
   "source": [
    "\n"
   ]
  },
  {
   "cell_type": "code",
   "execution_count": 60,
   "metadata": {},
   "outputs": [],
   "source": [
    "cv2.imshow(\"Image\", final)\n",
    "cv2.waitKey(0)\n",
    "cv2.destroyAllWindows()"
   ]
  },
  {
   "cell_type": "code",
   "execution_count": 87,
   "metadata": {},
   "outputs": [
    {
     "data": {
      "text/plain": [
       "True"
      ]
     },
     "execution_count": 87,
     "metadata": {},
     "output_type": "execute_result"
    }
   ],
   "source": [
    "cv2.imwrite(\"final.png\",final)"
   ]
  },
  {
   "cell_type": "code",
   "execution_count": 88,
   "metadata": {},
   "outputs": [
    {
     "name": "stdout",
     "output_type": "stream",
     "text": [
      "The box [0.6376586  0.41814914 0.7289611  0.5046509 ] has probability 0.5615273714065552\n"
     ]
    }
   ],
   "source": [
    "bbs = predict(\"final.png\")"
   ]
  },
  {
   "cell_type": "code",
   "execution_count": null,
   "metadata": {},
   "outputs": [],
   "source": []
  }
 ],
 "metadata": {
  "kernelspec": {
   "display_name": "Python 3",
   "language": "python",
   "name": "python3"
  },
  "language_info": {
   "codemirror_mode": {
    "name": "ipython",
    "version": 3
   },
   "file_extension": ".py",
   "mimetype": "text/x-python",
   "name": "python",
   "nbconvert_exporter": "python",
   "pygments_lexer": "ipython3",
   "version": "3.7.4"
  }
 },
 "nbformat": 4,
 "nbformat_minor": 2
}
