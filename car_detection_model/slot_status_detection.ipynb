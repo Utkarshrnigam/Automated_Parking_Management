{
 "cells": [
  {
   "cell_type": "code",
   "execution_count": 2,
   "metadata": {},
   "outputs": [
    {
     "name": "stderr",
     "output_type": "stream",
     "text": [
      "WARNING: Logging before flag parsing goes to stderr.\n",
      "W1208 14:36:43.934505  1600 deprecation.py:323] From c:\\users\\asus\\appdata\\local\\programs\\python\\python37\\lib\\site-packages\\tensorflow\\python\\compat\\v2_compat.py:96: disable_resource_variables (from tensorflow.python.ops.variable_scope) is deprecated and will be removed in a future version.\n",
      "Instructions for updating:\n",
      "non-resource variables are not supported in the long term\n"
     ]
    }
   ],
   "source": [
    "import tensorflow.compat.v1 as tf\n",
    "tf.disable_v2_behavior()\n",
    "import numpy as np\n",
    "import pathlib\n",
    "import os\n",
    "import io\n",
    "import cv2\n",
    "import pickle"
   ]
  },
  {
   "cell_type": "code",
   "execution_count": 3,
   "metadata": {},
   "outputs": [],
   "source": [
    "model_path = \"C:/Users/asus/Desktop/Major/car_detection_model\"\n"
   ]
  },
  {
   "cell_type": "code",
   "execution_count": 4,
   "metadata": {
    "scrolled": true
   },
   "outputs": [],
   "source": [
    "%%capture\n",
    "session = tf.Session(graph=tf.Graph())\n",
    "# loading the model into our session created above\n",
    "tf.saved_model.loader.load(session, ['serve'], model_path)"
   ]
  },
  {
   "cell_type": "code",
   "execution_count": 5,
   "metadata": {},
   "outputs": [],
   "source": [
    "# cam = cv2.VideoCapture(\"./11.png\")\n",
    "# slots = []\n",
    "# n = 100;\n",
    "# while True:\n",
    "#     _, im0 = cam.read()\n",
    "#     showCrosshair = False\n",
    "#     fromCenter = False\n",
    "#     r = cv2.selectROI(\"Image1\", im0, fromCenter, showCrosshair)\n",
    "#     n = n-1\n",
    "#     slots.append(r)\n",
    "#     for slot in slots:\n",
    "#         im0 = cv2.rectangle(im0, (int(slot[0]),int(slot[1])), \n",
    "#                                     (int(slot[0]+slot[2]),int(slot[1]+slot[3])), (255, 0, 0)) \n",
    "#     cv2.imshow(\"Image\", im0)\n",
    "    \n",
    "#     if cv2.waitKey(0) & 0xFF == ord('q'):\n",
    "#         break\n",
    "        \n",
    "# cam.release()\n",
    "# cv2.destroyAllWindows()"
   ]
  },
  {
   "cell_type": "code",
   "execution_count": 6,
   "metadata": {},
   "outputs": [],
   "source": [
    "def draw_boxes(height, width, box, img):\n",
    "    ymin = int(max(1, (box[0] * height)))\n",
    "    xmin = int(max(1, (box[1] * width)))\n",
    "    ymax = int(min(height, (box[2] * height)))\n",
    "    xmax = int(min(width, (box[3] * width)))\n",
    "    cv2.rectangle(img, (xmin, ymin), (xmax, ymax), (0, 0, 255), 1)"
   ]
  },
  {
   "cell_type": "code",
   "execution_count": 7,
   "metadata": {},
   "outputs": [],
   "source": [
    "def predict(img_name,img):\n",
    "    result = session.run(['detection_boxes:0','detection_scores:0'], feed_dict={\n",
    "            'encoded_image_string_tensor:0': [img_name]})     \n",
    "    boxes = result[0][0]\n",
    "    scores = result[1][0]\n",
    "    \n",
    "    imH, imW, _ = img.shape\n",
    "    b = []\n",
    "    for i in range(len(scores)):\n",
    "        if scores[i] > 0.5:\n",
    "            draw_boxes(imH, imW, boxes[i], img)\n",
    "            b.append(boxes[i])\n",
    "            \n",
    "#     new_img = cv2.resize(img, (1080, 1920))\n",
    "    # show the image on the screen\n",
    "#     cv2.imshow(\"i\", img)\n",
    "#     # as soon as any key is pressed, skip to the next lin\n",
    "#     cv2.waitKey(0)\n",
    "    if(len(b)==0):\n",
    "        return False\n",
    "    else:\n",
    "        return True\n",
    "    \n",
    "    \n",
    "    "
   ]
  },
  {
   "cell_type": "code",
   "execution_count": 8,
   "metadata": {},
   "outputs": [],
   "source": [
    "pickle_in = open(\"slots_demo.pickle\",\"rb\")\n",
    "slots = pickle.load(pickle_in)"
   ]
  },
  {
   "cell_type": "code",
   "execution_count": 10,
   "metadata": {},
   "outputs": [
    {
     "name": "stdout",
     "output_type": "stream",
     "text": [
      "60\n",
      "120\n",
      "180\n",
      "240\n",
      "300\n",
      "360\n",
      "420\n",
      "480\n",
      "540\n",
      "600\n",
      "660\n",
      "720\n",
      "780\n",
      "840\n",
      "900\n",
      "960\n",
      "1020\n"
     ]
    }
   ],
   "source": [
    "cam = cv2.VideoCapture(\"./demo.mp4\")\n",
    "i=0\n",
    "while True:\n",
    "    ret, im0 = cam.read()\n",
    "    key_pressed = cv2.waitKey(1)&0xFF\n",
    "    if ret==False:\n",
    "        print(\"Something went wrong\")\n",
    "        continue\n",
    "    if key_pressed == ord('q'):\n",
    "        break\n",
    "    i = i + 1\n",
    "    if i%60!=0:\n",
    "        continue\n",
    "    print(i)\n",
    "    for ids in slots.keys():\n",
    "        slot = slots[ids]\n",
    "        final = im0\n",
    "        final = final*0\n",
    "        x,y,w,h = slot\n",
    "        slot_img = im0[y:y+h,x:x+w]\n",
    "        final[y:y+h,x:x+w] = im0[y:y+h,x:x+w]\n",
    "#         cv2.imshow(\"slot\"+str(i),final)\n",
    "        \n",
    "        img_str = cv2.imencode('.jpg', final)[1].tostring()\n",
    "        \n",
    "        found = predict(img_str,final)\n",
    "        \n",
    "        if found:\n",
    "            im0 = cv2.rectangle(im0, (int(x),int(y)), \n",
    "                                    (int(x+w),int(y+h)), (255, 0, 0))\n",
    "        else:\n",
    "            im0 = cv2.rectangle(im0, (int(x),int(y)), \n",
    "                                    (int(x+w),int(y+h)), (0, 255, 0))\n",
    "    \n",
    "#     new_img = cv2.resize(im0, (416, 416))\n",
    "    cv2.imshow(\"final\", im0)\n",
    "    \n",
    "    \n",
    "    \n",
    "        \n",
    "cam.release()\n",
    "cv2.destroyAllWindows()"
   ]
  }
 ],
 "metadata": {
  "kernelspec": {
   "display_name": "Python 3",
   "language": "python",
   "name": "python3"
  },
  "language_info": {
   "codemirror_mode": {
    "name": "ipython",
    "version": 3
   },
   "file_extension": ".py",
   "mimetype": "text/x-python",
   "name": "python",
   "nbconvert_exporter": "python",
   "pygments_lexer": "ipython3",
   "version": "3.7.4"
  }
 },
 "nbformat": 4,
 "nbformat_minor": 2
}
