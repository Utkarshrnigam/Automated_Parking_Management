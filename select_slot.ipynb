{
 "cells": [
  {
   "cell_type": "code",
   "execution_count": 1,
   "metadata": {},
   "outputs": [],
   "source": [
    "import cv2\n",
    "from matplotlib import pyplot as plt\n",
    "import numpy as np"
   ]
  },
  {
   "cell_type": "code",
   "execution_count": null,
   "metadata": {},
   "outputs": [],
   "source": [
    "cam = cv2.VideoCapture(\"./parkingLotVID.mp4\")\n",
    "slots = []\n",
    "n = 20;\n",
    "while True:\n",
    "    _, im0 = cam.read()\n",
    "    showCrosshair = False\n",
    "    fromCenter = False\n",
    "    if(n>0):\n",
    "        r = cv2.selectROI(\"Image1\", im0, fromCenter, showCrosshair)\n",
    "        n = n-1\n",
    "        slots.append(r)\n",
    "\n",
    "    \n",
    "    for slot in slots:\n",
    "        im0 = cv2.rectangle(im0, (int(slot[0]),int(slot[1])), \n",
    "                                    (int(slot[0]+slot[2]),int(slot[1]+slot[3])), (255, 0, 0), )\n",
    "    \n",
    "    cv2.imshow(\"Image\", im0)\n",
    "    \n",
    "    if cv2.waitKey(1) & 0xFF == ord('q'):\n",
    "        break\n",
    "        \n",
    "cam.release()\n",
    "cv2.destroyAllWindows()"
   ]
  },
  {
   "cell_type": "code",
   "execution_count": 1,
   "metadata": {},
   "outputs": [],
   "source": [
    "import pytesseract"
   ]
  },
  {
   "cell_type": "code",
   "execution_count": 5,
   "metadata": {},
   "outputs": [
    {
     "ename": "error",
     "evalue": "OpenCV(4.4.0) C:\\Users\\appveyor\\AppData\\Local\\Temp\\1\\pip-req-build-52oirelq\\opencv\\modules\\imgproc\\src\\median_blur.dispatch.cpp:283: error: (-215:Assertion failed) !_src0.empty() in function 'cv::medianBlur'\n",
     "output_type": "error",
     "traceback": [
      "\u001b[1;31m---------------------------------------------------------------------------\u001b[0m",
      "\u001b[1;31merror\u001b[0m                                     Traceback (most recent call last)",
      "\u001b[1;32m<ipython-input-5-b32fc4ca4fb6>\u001b[0m in \u001b[0;36m<module>\u001b[1;34m\u001b[0m\n\u001b[0;32m     58\u001b[0m     \u001b[0mroi\u001b[0m \u001b[1;33m=\u001b[0m \u001b[0mthresh\u001b[0m\u001b[1;33m[\u001b[0m\u001b[0my\u001b[0m\u001b[1;33m-\u001b[0m\u001b[1;36m5\u001b[0m\u001b[1;33m:\u001b[0m\u001b[0my\u001b[0m\u001b[1;33m+\u001b[0m\u001b[0mh\u001b[0m\u001b[1;33m+\u001b[0m\u001b[1;36m5\u001b[0m\u001b[1;33m,\u001b[0m \u001b[0mx\u001b[0m\u001b[1;33m-\u001b[0m\u001b[1;36m5\u001b[0m\u001b[1;33m:\u001b[0m\u001b[0mx\u001b[0m\u001b[1;33m+\u001b[0m\u001b[0mw\u001b[0m\u001b[1;33m+\u001b[0m\u001b[1;36m5\u001b[0m\u001b[1;33m]\u001b[0m\u001b[1;33m\u001b[0m\u001b[1;33m\u001b[0m\u001b[0m\n\u001b[0;32m     59\u001b[0m     \u001b[0mroi\u001b[0m \u001b[1;33m=\u001b[0m \u001b[0mcv2\u001b[0m\u001b[1;33m.\u001b[0m\u001b[0mbitwise_not\u001b[0m\u001b[1;33m(\u001b[0m\u001b[0mroi\u001b[0m\u001b[1;33m)\u001b[0m\u001b[1;33m\u001b[0m\u001b[1;33m\u001b[0m\u001b[0m\n\u001b[1;32m---> 60\u001b[1;33m     \u001b[0mroi\u001b[0m \u001b[1;33m=\u001b[0m \u001b[0mcv2\u001b[0m\u001b[1;33m.\u001b[0m\u001b[0mmedianBlur\u001b[0m\u001b[1;33m(\u001b[0m\u001b[0mroi\u001b[0m\u001b[1;33m,\u001b[0m \u001b[1;36m5\u001b[0m\u001b[1;33m)\u001b[0m\u001b[1;33m\u001b[0m\u001b[1;33m\u001b[0m\u001b[0m\n\u001b[0m\u001b[0;32m     61\u001b[0m     \u001b[1;31m#cv2.imshow(\"ROI\", roi)\u001b[0m\u001b[1;33m\u001b[0m\u001b[1;33m\u001b[0m\u001b[1;33m\u001b[0m\u001b[0m\n\u001b[0;32m     62\u001b[0m     \u001b[1;31m#cv2.waitKey(0)\u001b[0m\u001b[1;33m\u001b[0m\u001b[1;33m\u001b[0m\u001b[1;33m\u001b[0m\u001b[0m\n",
      "\u001b[1;31merror\u001b[0m: OpenCV(4.4.0) C:\\Users\\appveyor\\AppData\\Local\\Temp\\1\\pip-req-build-52oirelq\\opencv\\modules\\imgproc\\src\\median_blur.dispatch.cpp:283: error: (-215:Assertion failed) !_src0.empty() in function 'cv::medianBlur'\n"
     ]
    }
   ],
   "source": [
    "\n",
    "\n",
    "pytesseract.pytesseract.tesseract_cmd = r'C:\\Program Files\\Tesseract-OCR\\tesseract.exe'\n",
    "\n",
    "path = \"C:/Users/asus\\Desktop/Major/dataset/Indian Number Plate/Indian Number Plate/\"\n",
    "\n",
    "img_name = \"KA67PN9942.png\"\n",
    "\n",
    "filename = path + img_name\n",
    "\n",
    "gray = cv2.imread(filename, 0)\n",
    "gray = cv2.resize( gray, None, fx = 3, fy = 3, interpolation = cv2.INTER_CUBIC)\n",
    "blur = cv2.GaussianBlur(gray, (5,5), 0)\n",
    "gray = cv2.medianBlur(gray, 3)\n",
    "# perform otsu thresh (using binary inverse since opencv contours work better with white text)\n",
    "ret, thresh = cv2.threshold(blur, 0, 255, cv2.THRESH_OTSU | cv2.THRESH_BINARY_INV)\n",
    "cv2.imshow(\"Otsu\", thresh)\n",
    "cv2.waitKey(0)\n",
    "rect_kern = cv2.getStructuringElement(cv2.MORPH_RECT, (3,3))\n",
    "\n",
    " \n",
    "dilation = cv2.dilate(thresh, rect_kern, iterations = 1)\n",
    "\n",
    "try:\n",
    "    contours, hierarchy = cv2.findContours(dilation, cv2.RETR_TREE, cv2.CHAIN_APPROX_SIMPLE)\n",
    "except:\n",
    "    ret_img, contours, hierarchy = cv2.findContours(dilation, cv2.RETR_TREE, cv2.CHAIN_APPROX_SIMPLE)\n",
    "sorted_contours = sorted(contours, key=lambda ctr: cv2.boundingRect(ctr)[0])\n",
    "\n",
    "# create copy of image\n",
    "im2 = gray.copy()\n",
    "\n",
    "plate_num = \"\"\n",
    "# loop through contours and find letters in license plate\n",
    "for cnt in sorted_contours:\n",
    "    x,y,w,h = cv2.boundingRect(cnt)\n",
    "    height, width = im2.shape\n",
    "    \n",
    "    # if height of box is not a quarter of total height then skip\n",
    "    if height / float(h) > 6: continue\n",
    "    ratio = h / float(w)\n",
    "    # if height to width ratio is less than 1.5 skip\n",
    "    if ratio < 1.5: continue\n",
    "    area = h * w\n",
    "    # if width is not more than 25 pixels skip\n",
    "    if width / float(w) > 15: continue\n",
    "    # if area is less than 100 pixels skip\n",
    "    if area < 100: continue\n",
    "    # draw the rectangle\n",
    "    rect = cv2.rectangle(im2, (x,y), (x+w, y+h), (0,255,0),2)\n",
    "    roi = thresh[y-5:y+h+5, x-5:x+w+5]\n",
    "    roi = cv2.bitwise_not(roi)\n",
    "    roi = cv2.medianBlur(roi, 5)\n",
    "    #cv2.imshow(\"ROI\", roi)\n",
    "    #cv2.waitKey(0)\n",
    "    text = pytesseract.image_to_string(roi, config='-c tessedit_char_whitelist=0123456789ABCDEFGHIJKLMNOPQRSTUVWXYZ --psm 8 --oem 3')\n",
    "    #print(text)\n",
    "    plate_num += text\n",
    "print(plate_num)\n",
    "cv2.imshow(\"Character's Segmented\", im2)\n",
    "cv2.waitKey(0)\n",
    "cv2.destroyAllWindows()"
   ]
  },
  {
   "cell_type": "code",
   "execution_count": 6,
   "metadata": {},
   "outputs": [],
   "source": [
    "import requests\n",
    "import base64\n",
    "import json"
   ]
  },
  {
   "cell_type": "code",
   "execution_count": 13,
   "metadata": {},
   "outputs": [],
   "source": [
    "def ocr(IMAGE_PATH):\n",
    "\tSECRET_KEY = 'sk_f52ed46c3a0902f92f82e967'\n",
    "\twith open(IMAGE_PATH, 'rb') as image_file:\n",
    "    \t\timg_base64 = base64.b64encode(image_file.read())\n",
    "\n",
    "\turl = 'https://api.openalpr.com/v2/recognize_bytes?recognize_vehicle=1&country=ind&secret_key=%s' % (SECRET_KEY)  #Replace 'ind' with  your country code\n",
    "\tr = requests.post(url, data = img_base64)\n",
    "\ttry:\n",
    "\t\treturn(r.json()['results'][0]['plate'])\n",
    "\t\t\n",
    "\texcept:\n",
    "\t\tprint(\"No number plate found\")"
   ]
  },
  {
   "cell_type": "code",
   "execution_count": 14,
   "metadata": {},
   "outputs": [
    {
     "data": {
      "text/plain": [
       "'KA03MN9993'"
      ]
     },
     "execution_count": 14,
     "metadata": {},
     "output_type": "execute_result"
    }
   ],
   "source": [
    "path = \"C:/Users/asus/Desktop/Major/dataset/Indian Plates/positive/\"\n",
    "\n",
    "img_name = \"Audi-A4-528794d.jpg_0359_0305_0250_0204_0066.png\"\n",
    "\n",
    "filename = path + img_name\n",
    "\n",
    "ocr(filename)"
   ]
  },
  {
   "cell_type": "code",
   "execution_count": null,
   "metadata": {},
   "outputs": [],
   "source": []
  }
 ],
 "metadata": {
  "kernelspec": {
   "display_name": "Python 3",
   "language": "python",
   "name": "python3"
  },
  "language_info": {
   "codemirror_mode": {
    "name": "ipython",
    "version": 3
   },
   "file_extension": ".py",
   "mimetype": "text/x-python",
   "name": "python",
   "nbconvert_exporter": "python",
   "pygments_lexer": "ipython3",
   "version": "3.7.4"
  }
 },
 "nbformat": 4,
 "nbformat_minor": 2
}
