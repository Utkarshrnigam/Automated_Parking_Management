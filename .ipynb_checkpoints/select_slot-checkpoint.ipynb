{
 "cells": [
  {
   "cell_type": "code",
   "execution_count": 1,
   "metadata": {},
   "outputs": [],
   "source": [
    "import cv2\n",
    "from matplotlib import pyplot as plt\n",
    "import numpy as np"
   ]
  },
  {
   "cell_type": "code",
   "execution_count": 6,
   "metadata": {},
   "outputs": [],
   "source": [
    "cam = cv2.VideoCapture(0)\n",
    "slots = []\n",
    "n = 5;\n",
    "while True:\n",
    "    _, im0 = cam.read()\n",
    "    showCrosshair = False\n",
    "    fromCenter = False\n",
    "    if(n>0):\n",
    "        r = cv2.selectROI(\"Image1\", im0, fromCenter, showCrosshair)\n",
    "        n = n-1\n",
    "        slots.append(r)\n",
    "\n",
    "    \n",
    "    for slot in slots:\n",
    "        im0 = cv2.rectangle(im0, (int(slot[0]),int(slot[1])), \n",
    "                                    (int(slot[0]+slot[2]),int(slot[1]+slot[3])), (255, 0, 0), 1)\n",
    "    \n",
    "    cv2.imshow(\"Image\", im0)\n",
    "    \n",
    "    if cv2.waitKey(1) & 0xFF == ord('q'):\n",
    "        break\n",
    "        \n",
    "cam.release()\n",
    "cv2.destroyAllWindows()"
   ]
  },
  {
   "cell_type": "code",
   "execution_count": null,
   "metadata": {},
   "outputs": [],
   "source": []
  }
 ],
 "metadata": {
  "kernelspec": {
   "display_name": "Python 3",
   "language": "python",
   "name": "python3"
  },
  "language_info": {
   "codemirror_mode": {
    "name": "ipython",
    "version": 3
   },
   "file_extension": ".py",
   "mimetype": "text/x-python",
   "name": "python",
   "nbconvert_exporter": "python",
   "pygments_lexer": "ipython3",
   "version": "3.7.4"
  }
 },
 "nbformat": 4,
 "nbformat_minor": 2
}
